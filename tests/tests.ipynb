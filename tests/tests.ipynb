{
 "cells": [
  {
   "cell_type": "code",
   "execution_count": 1,
   "metadata": {},
   "outputs": [],
   "source": [
    "from libtiff import TIFF\n",
    "import numpy as np"
   ]
  },
  {
   "cell_type": "code",
   "execution_count": 3,
   "metadata": {},
   "outputs": [],
   "source": [
    "from naoth.log import Reader as LogReader\n",
    "game_logs = [\"10.log\"]\n",
    "log_image = 1\n",
    "for log_num, game_log in enumerate(game_logs):\n",
    "    count = 0\n",
    "    with LogReader(str(game_log)) as gamelog_reader:\n",
    "        for frame in gamelog_reader.read():\n",
    "            count += 1\n",
    "            message = frame[\"Image\"]\n",
    "\n",
    "            # read each channel of yuv422 separately\n",
    "            yuv422 = np.frombuffer(message.data, dtype=np.uint8)\n",
    "            tif = TIFF.open('filename.tif', mode='w')\n",
    "            tif.write_image(yuv422)\n",
    "            break"
   ]
  },
  {
   "cell_type": "code",
   "execution_count": 4,
   "metadata": {},
   "outputs": [],
   "source": [
    "# Does not work because we cant set the fields required in tiff\n",
    "from libtiff import TIFF\n",
    "\n",
    "tif = TIFF.open('filename.tif') # open tiff file in read mode\n",
    "# read an image in the current TIFF directory as a numpy array\n",
    "image = tif.read_image()\n",
    "\n",
    "# read all images in a TIFF file:\n",
    "for image in tif.iter_images(): \n",
    "    pass\n",
    "\n",
    "tif = TIFF.open('filename.tiff', mode='w')\n",
    "tif.write_image(image)"
   ]
  }
 ],
 "metadata": {
  "kernelspec": {
   "display_name": "venv_tf",
   "language": "python",
   "name": "python3"
  },
  "language_info": {
   "codemirror_mode": {
    "name": "ipython",
    "version": 3
   },
   "file_extension": ".py",
   "mimetype": "text/x-python",
   "name": "python",
   "nbconvert_exporter": "python",
   "pygments_lexer": "ipython3",
   "version": "3.10.12"
  }
 },
 "nbformat": 4,
 "nbformat_minor": 2
}
